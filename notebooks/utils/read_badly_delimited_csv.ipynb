{
 "cells": [
  {
   "cell_type": "markdown",
   "metadata": {},
   "source": [
    "Functions for reading csv into a DataFrame in cases when the delimiter is part of some other fields."
   ]
  },
  {
   "cell_type": "code",
   "execution_count": null,
   "metadata": {},
   "outputs": [],
   "source": [
    "def read_first_N_fields(file: str, sep = ' ', N = 0):\n",
    "    '''\n",
    "    Imitate pd.read_csv but only recognize the first N delimiters of each line. Everything else should be bundled into the last field.\n",
    "\n",
    "    Parameters:\n",
    "    file: str\n",
    "        The file to read.\n",
    "    sep: str\n",
    "        The delimiter.\n",
    "    N: int  \n",
    "        The number of fields to read. If N = 0, read all fields.\n",
    "    header: list\n",
    "        The header of the file. If None, the first line of the file is used as the header.\n",
    "\n",
    "    Returns:\n",
    "    pd.DataFrame\n",
    "        The data frame.\n",
    "\n",
    "    '''\n",
    "    import pandas as pd\n",
    "    with open(file, 'r') as f:\n",
    "        if N == 0:\n",
    "            data = [line.strip().split(sep) for line in f]\n",
    "        else:\n",
    "            data = [line.strip().split(sep, N) for line in f]\n",
    "    return pd.DataFrame(data)\n",
    "    "
   ]
  }
 ],
 "metadata": {
  "kernelspec": {
   "display_name": "PyTorch3.11",
   "language": "python",
   "name": "python3"
  },
  "language_info": {
   "name": "python",
   "version": "3.11.8"
  }
 },
 "nbformat": 4,
 "nbformat_minor": 2
}
